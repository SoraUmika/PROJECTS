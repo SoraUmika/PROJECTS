{
 "cells": [
  {
   "cell_type": "code",
   "execution_count": 13,
   "metadata": {},
   "outputs": [],
   "source": [
    "import numpy as np\n",
    "import matplotlib.pyplot as plt\n",
    "import os\n",
    "import cv2\n",
    "\n",
    "dataDir = \"/media/jliu234/Storage/datasets/PetImages\"\n",
    "categories = [\"Dog\", \"Cat\"]\n"
   ]
  },
  {
   "cell_type": "code",
   "execution_count": 15,
   "metadata": {},
   "outputs": [],
   "source": [
    "IMG_SIZE = 100\n",
    "def create_training_data():\n",
    "    training_data = []\n",
    "    for category in categories:\n",
    "        path = os.path.join(dataDir, category)\n",
    "        class_num = categories.index(category)\n",
    "        for img in os.listdir(path):\n",
    "            try:\n",
    "                imgArray = cv2.imread(os.path.join(path, img), cv2.IMREAD_GRAYSCALE)\n",
    "                newArray = cv2.resize(imgArray, (IMG_SIZE, IMG_SIZE))\n",
    "                training_data.append([newArray, class_num])\n",
    "            except Exception as e:\n",
    "                pass\n",
    "    return training_data\n",
    "\n",
    "training_data = create_training_data()"
   ]
  },
  {
   "cell_type": "code",
   "execution_count": 17,
   "metadata": {},
   "outputs": [],
   "source": [
    "import random\n",
    "random.shuffle(training_data)"
   ]
  },
  {
   "cell_type": "code",
   "execution_count": 22,
   "metadata": {},
   "outputs": [],
   "source": [
    "X = []\n",
    "y = []\n",
    "\n",
    "for features, labels in training_data:\n",
    "    X.append(features)\n",
    "    y.append(labels)\n",
    "X = np.array(X).reshape(-1, IMG_SIZE, IMG_SIZE, 1)"
   ]
  },
  {
   "cell_type": "code",
   "execution_count": 25,
   "metadata": {},
   "outputs": [],
   "source": [
    "import pickle\n",
    "xNewPickle = open(\"xTrainingData\", \"wb\")\n",
    "pickle.dump(X, xNewPickle)\n",
    "xNewPickle.close()\n",
    "\n",
    "yNewPickle = open(\"yTrainingData\", \"wb\")\n",
    "pickle.dump(y, yNewPickle)\n",
    "yNewPickle.close()\n"
   ]
  },
  {
   "cell_type": "code",
   "execution_count": null,
   "metadata": {},
   "outputs": [],
   "source": []
  }
 ],
 "metadata": {
  "kernelspec": {
   "display_name": "Python 3",
   "language": "python",
   "name": "python3"
  },
  "language_info": {
   "codemirror_mode": {
    "name": "ipython",
    "version": 3
   },
   "file_extension": ".py",
   "mimetype": "text/x-python",
   "name": "python",
   "nbconvert_exporter": "python",
   "pygments_lexer": "ipython3",
   "version": "3.6.7"
  }
 },
 "nbformat": 4,
 "nbformat_minor": 2
}
